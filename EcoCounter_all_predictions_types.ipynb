{
  "nbformat": 4,
  "nbformat_minor": 0,
  "metadata": {
    "colab": {
      "provenance": [],
      "authorship_tag": "ABX9TyPhyYANB+fsADTKy5hqjvdk",
      "include_colab_link": true
    },
    "kernelspec": {
      "name": "python3",
      "display_name": "Python 3"
    },
    "language_info": {
      "name": "python"
    }
  },
  "cells": [
    {
      "cell_type": "markdown",
      "metadata": {
        "id": "view-in-github",
        "colab_type": "text"
      },
      "source": [
        "<a href=\"https://colab.research.google.com/github/yadavrishikesh/BayesNF/blob/main/EcoCounter_all_predictions_types.ipynb\" target=\"_parent\"><img src=\"https://colab.research.google.com/assets/colab-badge.svg\" alt=\"Open In Colab\"/></a>"
      ]
    },
    {
      "cell_type": "code",
      "source": [
        "# Install necessary packages\n",
        "!pip install -q bayesnf cartopy contextily geopandas"
      ],
      "metadata": {
        "id": "Ty0iP-HfMihb"
      },
      "execution_count": null,
      "outputs": []
    },
    {
      "cell_type": "code",
      "source": [
        "\n",
        "import warnings\n",
        "warnings.simplefilter('ignore')\n",
        "\n",
        "import contextily as ctx\n",
        "import geopandas as gpd\n",
        "import jax\n",
        "import numpy as np\n",
        "import pandas as pd\n",
        "import os\n",
        "import datetime\n",
        "from urllib.parse import urlparse\n",
        "from bayesnf.spatiotemporal import BayesianNeuralFieldMAP\n"
      ],
      "metadata": {
        "id": "il4wXI4DMg4u"
      },
      "execution_count": null,
      "outputs": []
    },
    {
      "cell_type": "code",
      "execution_count": null,
      "metadata": {
        "id": "ASx_YyS6JoW1"
      },
      "outputs": [],
      "source": [
        "\n",
        "def run_model(train_url, test_url):\n",
        "    \"\"\"\n",
        "    Trains a Bayesian Neural Field MAP model on specified train data and tests on test data.\n",
        "\n",
        "    Parameters:\n",
        "    - train_url (str): URL to the training dataset CSV file.\n",
        "    - test_url (str): URL to the test dataset CSV file.\n",
        "\n",
        "    Returns:\n",
        "    - predictions_df (DataFrame): DataFrame containing true values, predicted values, and quantiles.\n",
        "    \"\"\"\n",
        "    # Determine base directory from train_url and create unique outputs directory\n",
        "    train_name = os.path.basename(urlparse(train_url).path).split('.')[0]\n",
        "    test_name = os.path.basename(urlparse(test_url).path).split('.')[0]\n",
        "    timestamp = datetime.datetime.now().strftime(\"%Y%m%d_%H%M%S\")\n",
        "    output_dir = os.path.join(os.getcwd(), 'outputs', f'{train_name}_{test_name}_{timestamp}')\n",
        "    os.makedirs(output_dir, exist_ok=True)\n",
        "\n",
        "    # Download and load datasets\n",
        "    !wget -q {train_url} -O train_data.csv\n",
        "    !wget -q {test_url} -O test_data.csv\n",
        "    df_train = pd.read_csv('train_data.csv', index_col=0, parse_dates=['datetime'])\n",
        "    df_test = pd.read_csv('test_data.csv', index_col=0, parse_dates=['datetime'])\n",
        "\n",
        "    # Log-transform response in training data\n",
        "    df_train_log = df_train.copy()\n",
        "    df_train_log['response'] = np.log1p(df_train_log['response'])\n",
        "\n",
        "    # Define and train the Bayesian Neural Field model\n",
        "    model = BayesianNeuralFieldMAP(\n",
        "        width=512,\n",
        "        depth=2,\n",
        "        freq='D',\n",
        "        seasonality_periods=['W'],\n",
        "        num_seasonal_harmonics=[2],\n",
        "        feature_cols=['datetime', 'lat', 'lon', 'elev', 'walkscore', 'num_ppo', 'temp', 'precp', 'visbl', 'wsp'],\n",
        "        target_col='response',\n",
        "        observation_model='NORMAL',\n",
        "        timetype='index'\n",
        "    )\n",
        "\n",
        "    model = model.fit(df_train_log, seed=jax.random.PRNGKey(0), ensemble_size=5, num_epochs=500)\n",
        "\n",
        "    # Process test data\n",
        "    df_test_cleaned = df_test.dropna(subset=['response'])\n",
        "    df_test_cleaned_log = df_test_cleaned.copy()\n",
        "    df_test_cleaned_log['response'] = np.log1p(df_test_cleaned_log['response'])\n",
        "\n",
        "    # Make predictions\n",
        "    yhat, yhat_quantiles = model.predict(df_test_cleaned, quantiles=(0.025, 0.5, 0.975))\n",
        "\n",
        "    # Compile results into DataFrame\n",
        "    predictions_df = pd.DataFrame({\n",
        "        'datetime': df_test_cleaned.index,\n",
        "        'True_Values': df_test_cleaned['response'],\n",
        "        'Predicted_Mean': yhat_quantiles[1],\n",
        "        'Quantile_0.025': yhat_quantiles[0],\n",
        "        'Quantile_0.975': yhat_quantiles[2]\n",
        "    })\n",
        "\n",
        "    # Save output in the unique outputs directory\n",
        "    output_path = os.path.join(output_dir, 'predictions_output.csv')\n",
        "    predictions_df.to_csv(output_path, index=False)\n",
        "\n",
        "    return predictions_df\n",
        "\n",
        "# Example usage\n",
        "train_data_url = 'https://raw.githubusercontent.com/yadavrishikesh/BayesNF/main/data/train_data_Eco_pred-type_spatIntpl.csv'\n",
        "test_data_url = 'https://raw.githubusercontent.com/yadavrishikesh/BayesNF/main/data/test_data_Eco_pred-type_spatIntpl.csv'\n",
        "\n",
        "predictions_df = run_model(train_data_url, test_data_url)\n",
        "predictions_df.head()\n",
        "\n"
      ]
    }
  ]
}